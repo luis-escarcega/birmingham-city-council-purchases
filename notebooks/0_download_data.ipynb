{
 "cells": [
  {
   "cell_type": "markdown",
   "metadata": {},
   "source": [
    "# Downloading Data"
   ]
  },
  {
   "cell_type": "markdown",
   "metadata": {},
   "source": [
    "In this notebook we will download the necessary data and clean it."
   ]
  },
  {
   "cell_type": "markdown",
   "metadata": {},
   "source": [
    "## Dependencies"
   ]
  },
  {
   "cell_type": "code",
   "execution_count": 1,
   "metadata": {},
   "outputs": [],
   "source": [
    "%load_ext autoreload\n",
    "%autoreload 2"
   ]
  },
  {
   "cell_type": "code",
   "execution_count": 2,
   "metadata": {},
   "outputs": [],
   "source": [
    "import sys\n",
    "sys.path.append('../')\n",
    "from src.utils import get_xml_source, download_data\n",
    "import pandas as pd\n",
    "import numpy as np\n",
    "import matplotlib.pyplot as plt\n",
    "\n",
    "plt.rcParams[\"figure.figsize\"] = (10,7)"
   ]
  },
  {
   "cell_type": "markdown",
   "metadata": {},
   "source": [
    "### Downloading data"
   ]
  },
  {
   "cell_type": "code",
   "execution_count": 3,
   "metadata": {
    "scrolled": true
   },
   "outputs": [
    {
     "name": "stdout",
     "output_type": "stream",
     "text": [
      "[0.83%] XLS file purchasecardtransactionsapril2014.xls already downloaded\n",
      "[1.67%] XLS file purchasecardtransactionsmay2014.xls already downloaded\n",
      "[2.50%] XLS file purchasecardtransactionsjune2014.xls already downloaded\n",
      "[3.33%] XLS file purchasecardtransactionsjuly2014.xls already downloaded\n",
      "[4.17%] XLS file purchasecardtransactionsaugust2014.xls already downloaded\n",
      "[5.00%] XLS file purchasecardtransactionsseptember2014.xls already downloaded\n",
      "[5.83%] XLS file purchasecardtransactionsoctober2014.xls already downloaded\n",
      "[6.67%] XLS file purchasecardsnov2014.xls already downloaded\n",
      "[7.50%] XLS file purchasecardsdec2014.xls already downloaded\n",
      "[8.33%] XLS file purchaseccardtransactionsjanuary2015.xls already downloaded\n",
      "[9.17%] XLS file publishspendpurchasecardsfebruary.xls already downloaded\n",
      "[10.00%] XLS file publishspendpurchasecardsmarch.xls already downloaded\n",
      "[10.83%] XLS file svlrdclr05homesharechexefinainmngeneralappublishspendmay2015.xls already downloaded\n",
      "[11.67%] XLS file publishspendjune2015alldirectorates.xls already downloaded\n",
      "[12.50%] XLS file itemisedtransactionsjuly2015publishspend.xls already downloaded\n",
      "[13.33%] XLS file itemisedtransactionsaugust2015publishspendalldirectorates.xls already downloaded\n",
      "[14.17%] XLS file publishspendseptember2015.xls already downloaded\n",
      "[15.00%] XLS file publishspendoctober2015.xls already downloaded\n",
      "[15.83%] XLS file publishspendnovember2015.xls already downloaded\n",
      "[16.67%] XLS file publishedspenddecember2015.xls already downloaded\n",
      "[17.50%] XLS file publishspendjanuary2016.xls already downloaded\n",
      "[18.33%] XLS file publishspendfebruary2016.xls already downloaded\n",
      "[19.17%] XLS file publishspendmarch2016.xls already downloaded\n",
      "[20.00%] XLS file publish-spend-april-2016.xls already downloaded\n",
      "[20.83%] XLS file publish-spend-may-2016.xls already downloaded\n",
      "[21.67%] XLS file publish-spend-june-2016.xls already downloaded\n",
      "[22.50%] XLS file publish-spend-july-2016.xls already downloaded\n",
      "[23.33%] XLS file publish-spend-august-2016.xls already downloaded\n",
      "[24.17%] XLS file publish-spend-september-2016.xls already downloaded\n",
      "[25.00%] XLS file publish-spend-october-2016.xls already downloaded\n",
      "[25.83%] XLS file publishing-spend-november-2016.xls already downloaded\n",
      "[26.67%] XLS file publish-spend-december-2016.xls already downloaded\n",
      "[27.50%] XLS file cusersfinainmndesktoppublish-copy-january-2017.xls already downloaded\n",
      "[28.33%] XLS file cusersfinainmndesktoppublish-spend-february-2017-all-directorates.xls already downloaded\n",
      "[29.17%] XLS file cusersfinainmndesktoppublish-spend-march-2017.xls already downloaded\n",
      "[30.00%] XLS file cusersfinainmndesktoppublish-spend-april-2017.xls already downloaded\n",
      "[30.83%] XLS file cusersfinainmndesktoppublish-spend-may-2017.xls already downloaded\n",
      "[31.67%] XLS file cusersfinainmndesktoppublish-spend-june-2017.xls already downloaded\n",
      "[32.50%] XLS file cusersfinainmndesktoppublish-spend-july-2017.xls already downloaded\n",
      "[33.33%] XLS file cusersfinainmndesktoppublish-spend-august-2017-all-directorates.xls already downloaded\n",
      "[34.17%] XLS file cusersfinainmndesktoppublish-spend-sept-2017.xls already downloaded\n",
      "[35.00%] XLS file cusersfinainmndesktoppublish-spend-october-2017-all-directorates.xls already downloaded\n",
      "[35.83%] XLS file cusersfinainmndesktoppublish-spend-november-2017-all-directorates.xls already downloaded\n",
      "[36.67%] XLS file cusersfinainmndesktoppublish-spend-january-2018.xls already downloaded\n",
      "[37.50%] XLS file purchase-card-transactions-september-22.xls already downloaded\n",
      "[38.33%] XLS file purchase-card-transactions-october-22.xls already downloaded\n",
      "[39.17%] XLS file purchase-card-transactions-november-22.xls already downloaded\n",
      "[40.00%] XLS file purchase-card-transactions-december-22.xls already downloaded\n",
      "[40.83%] XLS file purchase-card-transactions-january-23.xls already downloaded\n",
      "[41.67%] XLS file purchase-card-transactions-february-23-.xls already downloaded\n",
      "[42.50%] XLS file purchase-card-transactions-march-23.xls already downloaded\n",
      "[43.33%] XLS file purchase-card-transactions-april-23.xls already downloaded\n",
      "[44.17%] XLS file purchase-card-transactions-may-23-.xls already downloaded\n",
      "[45.00%] XLS file purchase-cards-transactions-june-23.xls already downloaded\n",
      "[45.83%] XLS file purchase-card-transactions-july-23.xls already downloaded\n",
      "[46.67%] XLS file purchase-card-transactions-february-2018.xls already downloaded\n",
      "[47.50%] XLS file purchase-card-transactions-march-2018.xls already downloaded\n",
      "[48.33%] XLS file purchase-card-transactions-april-2018.xls already downloaded\n",
      "[49.17%] XLS file purchase-card-transactions-may-2018.xls already downloaded\n",
      "[50.00%] XLS file purchase-card-transactions-june-2018.xls already downloaded\n",
      "[50.83%] XLS file purchase-card-transactions-july-2018.xls already downloaded\n",
      "[51.67%] XLS file purchase-card-transactions-august-2018.xls already downloaded\n",
      "[52.50%] XLS file purchase-card-transactions-september-2018.xls already downloaded\n",
      "[53.33%] XLS file purchase-card-transactions-october-2018.xls already downloaded\n",
      "[54.17%] XLS file purchase-card-transactions-november-2018.xls already downloaded\n",
      "[55.00%] XLS file purchase-card-transactions-december-2018.xls already downloaded\n",
      "[55.83%] XLS file purchase-card-transactions-january-2019.xls already downloaded\n",
      "[56.67%] XLS file purchase-card-transactions-february-2019.xls already downloaded\n",
      "[57.50%] XLS file purchase-card-transactions-march-2019.xls already downloaded\n",
      "[58.33%] XLS file purchase-card-transactions-april-2019.xls already downloaded\n",
      "[59.17%] XLS file purchase-card-transactions-may-2019.xls already downloaded\n",
      "[60.00%] XLS file purchase-card-transactions-june-2019.xls already downloaded\n",
      "[60.83%] XLS file purchase-card-transactions-july-2019.xls already downloaded\n",
      "[61.67%] XLS file purchase-card-transactions-august-2019.xls already downloaded\n",
      "[62.50%] XLS file purchase-card-transactions-september-2019.xls already downloaded\n",
      "[63.33%] XLS file purchase-card-transactions-october-2019.xls already downloaded\n",
      "[64.17%] XLS file purchase-card-transactions-november-2019.xls already downloaded\n",
      "[65.00%] XLS file purchase-card-transactions-december-2019.xls already downloaded\n",
      "[65.83%] XLS file purchase-card-transactions-january-2020-_.xls already downloaded\n",
      "[66.67%] XLS file purchase-card-transactions-february-2020-_.xls already downloaded\n",
      "[67.50%] XLS file purchase-card-transactions-march-2020_.xls already downloaded\n",
      "[68.33%] XLS file purchase-card-transactions-april-2020-_.xls already downloaded\n",
      "[69.17%] XLS file purchase-card-transactions-may-2020.xls already downloaded\n",
      "[70.00%] XLS file purchase-card-transactions-june-2020.xls already downloaded\n",
      "[70.83%] XLS file purchase-card-transactions-july-2020.xls already downloaded\n",
      "[71.67%] XLS file purchase-card-transactions-august-2020.xls already downloaded\n",
      "[72.50%] XLS file purchase-card-transactions-september-2020.xls already downloaded\n",
      "[73.33%] XLS file purchase-card-transactions-october-2020.xls already downloaded\n",
      "[74.17%] XLS file purchase-card-transactions-november-2020.xls already downloaded\n",
      "[75.00%] XLS file purcahse-card-transactions-december-2020.xls already downloaded\n",
      "[75.83%] XLS file purchase-card-transactions-january-2021.xls already downloaded\n",
      "[76.67%] XLS file purchase-card-transactions-february-2021.xls already downloaded\n",
      "[77.50%] XLS file purchase-card-transactions-march-2021.xls already downloaded\n",
      "[78.33%] XLS file purchase-card-transactions-april-2021.xls already downloaded\n",
      "[79.17%] XLS file purchase-card-transactions-may-2021.xls already downloaded\n",
      "[80.00%] XLS file purchase-card-transactions-june-2021.xls already downloaded\n",
      "[80.83%] XLS file purchase-card-transactions-july-2021.xls already downloaded\n",
      "[81.67%] XLS file purchase-card-transactions-august-2021.xls already downloaded\n",
      "[82.50%] XLS file purchase-card-transactions-september-2021.xls already downloaded\n",
      "[83.33%] XLS file purchase-card-transactions-october-2021.xls already downloaded\n",
      "[84.17%] XLS file purchase-card-transactions-november-2021.xls already downloaded\n",
      "[85.00%] XLS file purchase-card-transactions-december-2021.xls already downloaded\n",
      "[85.83%] XLS file purchase-card-transactions-january-2022.xls already downloaded\n",
      "[86.67%] XLS file purchase-card-transactions-february-2022.xls already downloaded\n",
      "[87.50%] XLS file purchase-card-transactions-march-2022.xls already downloaded\n",
      "[88.33%] XLS file purchase-card-transactions-april-2022.xls already downloaded\n",
      "[89.17%] XLS file purchase-card-transactions-may-2022.xls already downloaded\n",
      "[90.00%] XLS file purchase-card-transactions-june-2022.xls already downloaded\n",
      "[90.83%] XLS file purchase-card-transactions-july-2022.xls already downloaded\n",
      "[91.67%] XLS file purchase-card-transactions-august-2022.xls already downloaded\n",
      "[92.50%] XLS file purchase-card-transactions-august-23-.xls already downloaded\n",
      "[93.33%] XLS file purchase-card-transactions-september-23-.xls already downloaded\n",
      "[94.17%] XLS file purchase-card-transactions-october-23.xls already downloaded\n",
      "[95.00%] XLS file purchase-card-transactions-november-23-.xls already downloaded\n",
      "[95.83%] XLS file purchase-card-transactions-december-23.xls already downloaded\n",
      "[96.67%] XLS file purchase-card-transactions-january-24.xls already downloaded\n",
      "[97.50%] XLS file purchase-card-transactions-february-24.xls already downloaded\n",
      "[98.33%] XLS file purchase-card-transactions-march-24.xls already downloaded\n",
      "[99.17%] XLS file purchase-card-transactions-april-24.xls already downloaded\n",
      "[100.00%] XLS file purchase-card-transactions-may-24.xls already downloaded\n"
     ]
    }
   ],
   "source": [
    "url = \"https://www.cityobservatory.birmingham.gov.uk/@birmingham-city-council/purchase-card-transactions\"\n",
    "list_xml_urls = get_xml_source(url)\n",
    "list_xls_local_paths = download_data(list_xml_urls, \"../data/xls/\") "
   ]
  },
  {
   "cell_type": "markdown",
   "metadata": {},
   "source": [
    "### Merging Data"
   ]
  },
  {
   "cell_type": "code",
   "execution_count": 4,
   "metadata": {},
   "outputs": [],
   "source": [
    "# we load all the info into the ram memory to analyse it.\n",
    "\n",
    "list_df = []\n",
    "all_columns = []\n",
    "for path in list_xls_local_paths:\n",
    "    df = pd.read_excel(path)\n",
    "    # we normalize the column names\n",
    "    columns = df.columns.tolist()\n",
    "    columns = [str(col).strip().replace(\" \", \"_\").lower() for col in columns]\n",
    "    df.columns = columns\n",
    "    list_df.append(df)\n",
    "    all_columns += columns"
   ]
  },
  {
   "cell_type": "code",
   "execution_count": 5,
   "metadata": {},
   "outputs": [],
   "source": [
    "all_columns = list(set(all_columns)) # drop duplicates\n",
    "all_columns = list(np.sort(all_columns)) # order"
   ]
  },
  {
   "cell_type": "code",
   "execution_count": 6,
   "metadata": {
    "scrolled": true
   },
   "outputs": [
    {
     "data": {
      "text/plain": [
       "['************8998',\n",
       " '0',\n",
       " '0.1',\n",
       " '2018-09-18_00:00:00',\n",
       " '75',\n",
       " '75.1',\n",
       " 'a00',\n",
       " 'adult_social_care_and_health',\n",
       " 'billing_cur_code',\n",
       " 'billing_cur_code.1',\n",
       " 'billing_gross_amt',\n",
       " 'card_number',\n",
       " 'claim_name',\n",
       " 'claim_no',\n",
       " 'direcorate',\n",
       " 'directorate',\n",
       " 'directorates',\n",
       " 'gbp',\n",
       " 'gbp.1',\n",
       " 'hmcourts-service.g',\n",
       " 'mc70',\n",
       " 'mcc_code',\n",
       " 'mental_health_management_budget',\n",
       " 'merchant_name',\n",
       " 'merchant_tax_reg_no',\n",
       " 'original_cur',\n",
       " 'original_gross_amt',\n",
       " 'rv3t0',\n",
       " 'split_expense_category',\n",
       " 'split_quantity',\n",
       " 'split_unit_cost',\n",
       " 'supplies_&_sev_mic',\n",
       " 'trans_account_key',\n",
       " 'trans_account_key_desc',\n",
       " 'trans_cac_code_1',\n",
       " 'trans_cac_code_10',\n",
       " 'trans_cac_code_11',\n",
       " 'trans_cac_code_12',\n",
       " 'trans_cac_code_2',\n",
       " 'trans_cac_code_3',\n",
       " 'trans_cac_code_4',\n",
       " 'trans_cac_code_5',\n",
       " 'trans_cac_code_6',\n",
       " 'trans_cac_code_7',\n",
       " 'trans_cac_code_8',\n",
       " 'trans_cac_code_9',\n",
       " 'trans_cac_desc_1',\n",
       " 'trans_cac_desc_10',\n",
       " 'trans_cac_desc_11',\n",
       " 'trans_cac_desc_12',\n",
       " 'trans_cac_desc_2',\n",
       " 'trans_cac_desc_3',\n",
       " 'trans_cac_desc_4',\n",
       " 'trans_cac_desc_5',\n",
       " 'trans_cac_desc_6',\n",
       " 'trans_cac_desc_7',\n",
       " 'trans_cac_desc_8',\n",
       " 'trans_cac_desc_9',\n",
       " 'trans_date',\n",
       " 'trans_expense_category',\n",
       " 'trans_original_net_amt',\n",
       " 'trans_post_date',\n",
       " 'trans_tax_amt',\n",
       " 'trans_tax_desc',\n",
       " 'trans_tax_rate',\n",
       " 'trans_vat_desc',\n",
       " 'unnamed:_10',\n",
       " 'vz']"
      ]
     },
     "execution_count": 6,
     "metadata": {},
     "output_type": "execute_result"
    }
   ],
   "source": [
    "all_columns"
   ]
  },
  {
   "cell_type": "code",
   "execution_count": 7,
   "metadata": {},
   "outputs": [],
   "source": [
    "replacements = {\n",
    "    \"billing_cur_code\": [\"billing_cur_code.1\"],\n",
    "    \"directorate\" : [\"direcorate\", \"directorates\"]\n",
    "}\n",
    "\n",
    "list_df_ = []\n",
    "for df in list_df:\n",
    "    df.rename(columns={el:k for k,v in replacements.items() for el in v}, inplace=True)\n",
    "    df = df.loc[:,~df.columns.duplicated()].copy()\n",
    "    list_df_.append(df)\n",
    "\n",
    "list_df = list_df_"
   ]
  },
  {
   "cell_type": "code",
   "execution_count": 8,
   "metadata": {},
   "outputs": [],
   "source": [
    "# we determine what columns are present in each of the data sets\n",
    "\n",
    "list_of_rows = []\n",
    "list_errors = []\n",
    "list_dates = []\n",
    "\n",
    "for df, path in zip(list_df, list_xls_local_paths):\n",
    "    try:\n",
    "        columns = df.columns.tolist()\n",
    "        dict_row = {}\n",
    "        date_of_data = df[\"trans_date\"].median()\n",
    "        date_of_data_str = date_of_data.strftime('%Y-%m')\n",
    "        dict_row[\"date\"] = date_of_data_str\n",
    "        \n",
    "        for col in columns:\n",
    "            dict_row[col] = 1\n",
    "        \n",
    "        list_of_rows.append(dict_row.copy())\n",
    "        list_dates.append(date_of_data)\n",
    "    except:\n",
    "        list_errors.append(path)\n",
    "\n",
    "df_summary_cols = pd.DataFrame(list_of_rows).fillna(0)\n",
    "df_summary_cols.sort_values(\"date\", inplace=True)\n",
    "df_summary_cols[\"date\"] = pd.to_datetime(df_summary_cols[\"date\"])\n",
    "df_summary_cols.set_index(\"date\", inplace=True)"
   ]
  },
  {
   "cell_type": "markdown",
   "metadata": {},
   "source": [
    "### How many columns are present in the data of the last n months?"
   ]
  },
  {
   "cell_type": "code",
   "execution_count": 9,
   "metadata": {},
   "outputs": [],
   "source": [
    "list_num_valid_cols = []\n",
    "n_months = -np.arange(len(df_summary_cols))\n",
    "\n",
    "for n in n_months:\n",
    "    df_last_n = df_summary_cols.iloc[n - 1:]\n",
    "    num_valid_cols = (df_last_n.mean() == 1).sum()\n",
    "    list_num_valid_cols.append(num_valid_cols)\n",
    "\n",
    "list_num_valid_cols = np.array(list_num_valid_cols)\n",
    "dates = df_summary_cols.index.to_list()\n",
    "dates.reverse()\n",
    "\n",
    "df_number_cols = pd.DataFrame({\n",
    "    \"number_of_cols\" : list_num_valid_cols, \n",
    "    \"date\" : dates, \n",
    "    \"months_before_last_info\" : n_months\n",
    "})"
   ]
  },
  {
   "cell_type": "code",
   "execution_count": 11,
   "metadata": {},
   "outputs": [
    {
     "data": {
      "text/plain": [
       "trans_date            1.000000\n",
       "card_number           1.000000\n",
       "trans_cac_code_2      1.000000\n",
       "trans_cac_code_1      1.000000\n",
       "trans_cac_code_3      1.000000\n",
       "original_gross_amt    1.000000\n",
       "merchant_name         0.991597\n",
       "directorate           0.991597\n",
       "trans_cac_desc_2      0.798319\n",
       "billing_cur_code      0.789916\n",
       "dtype: float64"
      ]
     },
     "execution_count": 11,
     "metadata": {},
     "output_type": "execute_result"
    }
   ],
   "source": [
    "df_summary_cols.mean().sort_values(ascending=False).head(10)"
   ]
  },
  {
   "cell_type": "code",
   "execution_count": 10,
   "metadata": {},
   "outputs": [],
   "source": [
    "# we define minimum number of columns needed to be 16\n",
    "# in this point we get the date threshold\n",
    "\n",
    "min_cols = 17\n",
    "mask = df_number_cols.number_of_cols >= min_cols\n",
    "date_threshold = df_number_cols[mask][\"date\"].min()\n",
    "date_threshold_str = date_threshold.strftime('%Y-%m')"
   ]
  },
  {
   "cell_type": "code",
   "execution_count": 11,
   "metadata": {},
   "outputs": [
    {
     "data": {
      "image/png": "[encoded data removed]",
      "text/plain": [
       "<Figure size 1000x700 with 1 Axes>"
      ]
     },
     "metadata": {},
     "output_type": "display_data"
    }
   ],
   "source": [
    "max_date = df_summary_cols.iloc[-1].name.strftime('%Y-%m')\n",
    "\n",
    "fig, ax = plt.subplots()\n",
    "\n",
    "ax.plot(df_number_cols.date, df_number_cols.number_of_cols)\n",
    "ax.plot(date_threshold, min_cols, \"ro\", label=f\"{date_threshold_str} - {min_cols} cols\")\n",
    "ax.set(\n",
    "    xlabel=f\"Date\",\n",
    "    ylabel=f\"Num. of cols. present in the period (date - {max_date})\"\n",
    ")\n",
    "ax.legend()\n",
    "\n",
    "plt.show()"
   ]
  },
  {
   "cell_type": "code",
   "execution_count": 12,
   "metadata": {},
   "outputs": [],
   "source": [
    "final_list_df = []\n",
    "\n",
    "for date, df in zip(list_dates, list_df):\n",
    "    if date >= date_threshold:\n",
    "        final_list_df.append(df)\n",
    "\n",
    "df_final = pd.concat(final_list_df)"
   ]
  },
  {
   "cell_type": "code",
   "execution_count": 13,
   "metadata": {},
   "outputs": [
    {
     "name": "stdout",
     "output_type": "stream",
     "text": [
      "17\n"
     ]
    }
   ],
   "source": [
    "final_cols = df_summary_cols[df_summary_cols.index >= date_threshold].mean()\n",
    "final_cols = final_cols[final_cols == 1].index.tolist()\n",
    "\n",
    "print(len(final_cols))"
   ]
  },
  {
   "cell_type": "code",
   "execution_count": 14,
   "metadata": {},
   "outputs": [],
   "source": [
    "df_final = df_final[final_cols]\n",
    "df_final.to_csv(\"../data/df.csv\", index=False)"
   ]
  }
 ],
 "metadata": {
  "kernelspec": {
   "display_name": "Python 3 (ipykernel)",
   "language": "python",
   "name": "python3"
  },
  "language_info": {
   "codemirror_mode": {
    "name": "ipython",
    "version": 3
   },
   "file_extension": ".py",
   "mimetype": "text/x-python",
   "name": "python",
   "nbconvert_exporter": "python",
   "pygments_lexer": "ipython3",
   "version": "3.12.1"
  }
 },
 "nbformat": 4,
 "nbformat_minor": 4
}
