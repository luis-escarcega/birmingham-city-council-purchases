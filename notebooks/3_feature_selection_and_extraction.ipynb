{
 "cells": [
  {
   "cell_type": "markdown",
   "id": "d91c4bbb-f443-4dc4-83ef-fcd251fe596a",
   "metadata": {},
   "source": [
    "# Feature selection"
   ]
  },
  {
   "cell_type": "markdown",
   "id": "86c52762-1743-42ba-b6ad-d9758f7cbb6a",
   "metadata": {},
   "source": [
    "### Dependencies"
   ]
  },
  {
   "cell_type": "code",
   "execution_count": 68,
   "id": "4aa22140-2d95-4706-b09c-f63fc76ad61b",
   "metadata": {},
   "outputs": [],
   "source": [
    "import numpy as np\n",
    "import pandas as pd\n",
    "import matplotlib.pyplot as plt\n",
    "from itertools import product\n",
    "from scipy.stats import spearmanr\n",
    "\n",
    "from sklearn.model_selection import train_test_split\n",
    "from sklearn.model_selection import PredefinedSplit\n",
    "pd.set_option('display.max_columns', 500)\n",
    "plt.rcParams[\"figure.figsize\"] = (10,7)\n",
    "\n",
    "import sys\n",
    "sys.path.append('../')\n",
    "\n",
    "from src.utils import read_pickle, save_to_pickle"
   ]
  },
  {
   "cell_type": "markdown",
   "id": "295457fc-59f3-41f8-b87f-f514fb93aea6",
   "metadata": {},
   "source": [
    "### Loading data"
   ]
  },
  {
   "cell_type": "code",
   "execution_count": 69,
   "id": "dbf0f807-fbde-4ee8-88ab-c19588e539b5",
   "metadata": {},
   "outputs": [],
   "source": [
    "df = pd.read_csv(\"../data/df_target.csv\")"
   ]
  },
  {
   "cell_type": "code",
   "execution_count": 70,
   "id": "7ae1968f-e04d-4ef0-a1c8-3becd3452c57",
   "metadata": {},
   "outputs": [
    {
     "data": {
      "image/png": "[encoded data removed]",
      "text/plain": [
       "<Figure size 1000x700 with 1 Axes>"
      ]
     },
     "metadata": {},
     "output_type": "display_data"
    },
    {
     "data": {
      "text/html": [
       "<div>\n",
       "<style scoped>\n",
       "    .dataframe tbody tr th:only-of-type {\n",
       "        vertical-align: middle;\n",
       "    }\n",
       "\n",
       "    .dataframe tbody tr th {\n",
       "        vertical-align: top;\n",
       "    }\n",
       "\n",
       "    .dataframe thead th {\n",
       "        text-align: right;\n",
       "    }\n",
       "</style>\n",
       "<table border=\"1\" class=\"dataframe\">\n",
       "  <thead>\n",
       "    <tr style=\"text-align: right;\">\n",
       "      <th></th>\n",
       "      <th>date</th>\n",
       "      <th>counting</th>\n",
       "      <th>cumulated_rows</th>\n",
       "    </tr>\n",
       "  </thead>\n",
       "  <tbody>\n",
       "    <tr>\n",
       "      <th>0</th>\n",
       "      <td>2022-02-28</td>\n",
       "      <td>479</td>\n",
       "      <td>0.023851</td>\n",
       "    </tr>\n",
       "    <tr>\n",
       "      <th>1</th>\n",
       "      <td>2022-03-31</td>\n",
       "      <td>526</td>\n",
       "      <td>0.050042</td>\n",
       "    </tr>\n",
       "    <tr>\n",
       "      <th>2</th>\n",
       "      <td>2022-04-30</td>\n",
       "      <td>556</td>\n",
       "      <td>0.077727</td>\n",
       "    </tr>\n",
       "    <tr>\n",
       "      <th>3</th>\n",
       "      <td>2022-05-31</td>\n",
       "      <td>589</td>\n",
       "      <td>0.107056</td>\n",
       "    </tr>\n",
       "    <tr>\n",
       "      <th>4</th>\n",
       "      <td>2022-06-30</td>\n",
       "      <td>616</td>\n",
       "      <td>0.137728</td>\n",
       "    </tr>\n",
       "    <tr>\n",
       "      <th>5</th>\n",
       "      <td>2022-07-31</td>\n",
       "      <td>642</td>\n",
       "      <td>0.169696</td>\n",
       "    </tr>\n",
       "    <tr>\n",
       "      <th>6</th>\n",
       "      <td>2022-08-31</td>\n",
       "      <td>650</td>\n",
       "      <td>0.202061</td>\n",
       "    </tr>\n",
       "    <tr>\n",
       "      <th>7</th>\n",
       "      <td>2022-09-30</td>\n",
       "      <td>667</td>\n",
       "      <td>0.235274</td>\n",
       "    </tr>\n",
       "    <tr>\n",
       "      <th>8</th>\n",
       "      <td>2022-10-31</td>\n",
       "      <td>733</td>\n",
       "      <td>0.271772</td>\n",
       "    </tr>\n",
       "    <tr>\n",
       "      <th>9</th>\n",
       "      <td>2022-11-30</td>\n",
       "      <td>763</td>\n",
       "      <td>0.309764</td>\n",
       "    </tr>\n",
       "    <tr>\n",
       "      <th>10</th>\n",
       "      <td>2022-12-31</td>\n",
       "      <td>775</td>\n",
       "      <td>0.348354</td>\n",
       "    </tr>\n",
       "    <tr>\n",
       "      <th>11</th>\n",
       "      <td>2023-01-31</td>\n",
       "      <td>786</td>\n",
       "      <td>0.387492</td>\n",
       "    </tr>\n",
       "    <tr>\n",
       "      <th>12</th>\n",
       "      <td>2023-02-28</td>\n",
       "      <td>795</td>\n",
       "      <td>0.427078</td>\n",
       "    </tr>\n",
       "    <tr>\n",
       "      <th>13</th>\n",
       "      <td>2023-03-31</td>\n",
       "      <td>800</td>\n",
       "      <td>0.466912</td>\n",
       "    </tr>\n",
       "    <tr>\n",
       "      <th>14</th>\n",
       "      <td>2023-04-30</td>\n",
       "      <td>811</td>\n",
       "      <td>0.507295</td>\n",
       "    </tr>\n",
       "    <tr>\n",
       "      <th>15</th>\n",
       "      <td>2023-05-31</td>\n",
       "      <td>838</td>\n",
       "      <td>0.549022</td>\n",
       "    </tr>\n",
       "    <tr>\n",
       "      <th>16</th>\n",
       "      <td>2023-06-30</td>\n",
       "      <td>865</td>\n",
       "      <td>0.592093</td>\n",
       "    </tr>\n",
       "    <tr>\n",
       "      <th>17</th>\n",
       "      <td>2023-07-31</td>\n",
       "      <td>877</td>\n",
       "      <td>0.635762</td>\n",
       "    </tr>\n",
       "    <tr>\n",
       "      <th>18</th>\n",
       "      <td>2023-08-31</td>\n",
       "      <td>884</td>\n",
       "      <td>0.679779</td>\n",
       "    </tr>\n",
       "    <tr>\n",
       "      <th>19</th>\n",
       "      <td>2023-09-30</td>\n",
       "      <td>890</td>\n",
       "      <td>0.724095</td>\n",
       "    </tr>\n",
       "    <tr>\n",
       "      <th>20</th>\n",
       "      <td>2023-10-31</td>\n",
       "      <td>901</td>\n",
       "      <td>0.768959</td>\n",
       "    </tr>\n",
       "    <tr>\n",
       "      <th>21</th>\n",
       "      <td>2023-11-30</td>\n",
       "      <td>912</td>\n",
       "      <td>0.814370</td>\n",
       "    </tr>\n",
       "    <tr>\n",
       "      <th>22</th>\n",
       "      <td>2023-12-31</td>\n",
       "      <td>922</td>\n",
       "      <td>0.860280</td>\n",
       "    </tr>\n",
       "    <tr>\n",
       "      <th>23</th>\n",
       "      <td>2024-01-31</td>\n",
       "      <td>931</td>\n",
       "      <td>0.906637</td>\n",
       "    </tr>\n",
       "    <tr>\n",
       "      <th>24</th>\n",
       "      <td>2024-02-29</td>\n",
       "      <td>934</td>\n",
       "      <td>0.953144</td>\n",
       "    </tr>\n",
       "    <tr>\n",
       "      <th>25</th>\n",
       "      <td>2024-03-31</td>\n",
       "      <td>941</td>\n",
       "      <td>1.000000</td>\n",
       "    </tr>\n",
       "  </tbody>\n",
       "</table>\n",
       "</div>"
      ],
      "text/plain": [
       "          date  counting  cumulated_rows\n",
       "0   2022-02-28       479        0.023851\n",
       "1   2022-03-31       526        0.050042\n",
       "2   2022-04-30       556        0.077727\n",
       "3   2022-05-31       589        0.107056\n",
       "4   2022-06-30       616        0.137728\n",
       "5   2022-07-31       642        0.169696\n",
       "6   2022-08-31       650        0.202061\n",
       "7   2022-09-30       667        0.235274\n",
       "8   2022-10-31       733        0.271772\n",
       "9   2022-11-30       763        0.309764\n",
       "10  2022-12-31       775        0.348354\n",
       "11  2023-01-31       786        0.387492\n",
       "12  2023-02-28       795        0.427078\n",
       "13  2023-03-31       800        0.466912\n",
       "14  2023-04-30       811        0.507295\n",
       "15  2023-05-31       838        0.549022\n",
       "16  2023-06-30       865        0.592093\n",
       "17  2023-07-31       877        0.635762\n",
       "18  2023-08-31       884        0.679779\n",
       "19  2023-09-30       890        0.724095\n",
       "20  2023-10-31       901        0.768959\n",
       "21  2023-11-30       912        0.814370\n",
       "22  2023-12-31       922        0.860280\n",
       "23  2024-01-31       931        0.906637\n",
       "24  2024-02-29       934        0.953144\n",
       "25  2024-03-31       941        1.000000"
      ]
     },
     "metadata": {},
     "output_type": "display_data"
    }
   ],
   "source": [
    "data = df.groupby(\"date\").size()\n",
    "fig, ax = plt.subplots()\n",
    "ax.bar(data.index, data)\n",
    "ax.tick_params(axis='x', labelrotation=90)\n",
    "plt.show()\n",
    "\n",
    "data = data.reset_index(name=\"counting\")\n",
    "data[\"cumulated_rows\"] = data[\"counting\"].cumsum() / data[\"counting\"].sum()\n",
    "display(data)"
   ]
  },
  {
   "cell_type": "code",
   "execution_count": 71,
   "id": "df67a6b4-da1f-4d8a-bc56-e3753397679d",
   "metadata": {},
   "outputs": [],
   "source": [
    "mask_train = df[\"date\"] <= \"2024-01-31\"\n",
    "df_train = df[mask_train].copy()\n",
    "df_dev_test = df[~mask_train].copy()"
   ]
  },
  {
   "cell_type": "markdown",
   "id": "a1fac190-9622-4c40-8e11-2895e2494e15",
   "metadata": {},
   "source": [
    "### Dev and test sets"
   ]
  },
  {
   "cell_type": "code",
   "execution_count": 72,
   "id": "ac539843-6b8e-494f-9120-89760885e0a2",
   "metadata": {},
   "outputs": [],
   "source": [
    "key_columns = [\"date\", \"card_number\"]\n",
    "target_column = \"amount_spent_1m\"\n",
    "all_columns = df.columns.tolist()\n",
    "\n",
    "predictor_columns = [col for col in all_columns if col not in [target_column] + key_columns]\n",
    "\n",
    "X_dev_test = df_dev_test[predictor_columns]\n",
    "y_dev_test = df_dev_test[target_column].values\n",
    "\n",
    "X_dev, X_test, y_dev, y_test = train_test_split(\n",
    "    X_dev_test, y_dev_test, test_size=0.50, random_state=42)\n",
    "\n",
    "X_train = df_train[predictor_columns]\n",
    "y_train = df_train[target_column].values"
   ]
  },
  {
   "cell_type": "code",
   "execution_count": 73,
   "id": "21858851-f2bc-42ca-94d1-4248f693770b",
   "metadata": {},
   "outputs": [
    {
     "data": {
      "text/plain": [
       "(18208, 937, 938)"
      ]
     },
     "execution_count": 73,
     "metadata": {},
     "output_type": "execute_result"
    }
   ],
   "source": [
    "len(X_train), len(X_dev), len(X_test)"
   ]
  },
  {
   "cell_type": "markdown",
   "id": "7a4d1339-6965-4d9a-a712-913ab016010c",
   "metadata": {},
   "source": [
    "### Feature selection"
   ]
  },
  {
   "cell_type": "code",
   "execution_count": 74,
   "id": "eaa91f58-b684-432d-b356-7f21397c6ecc",
   "metadata": {},
   "outputs": [
    {
     "data": {
      "text/plain": [
       "count_acivico                                                 0.0\n",
       "sum_original_gross_amt_inclusive_growth                       0.0\n",
       "sum_original_gross_amt_neighbourhoods                         0.0\n",
       "sum_original_gross_amt_partnership_insight_and_prevention     0.0\n",
       "sum_original_gross_amt_place_prosperity_and_sustainability    0.0\n",
       "                                                             ... \n",
       "sum_original_gross_amt_commonwealth_games                     0.0\n",
       "sum_original_gross_amt_council_management                     0.0\n",
       "sum_original_gross_amt_cypandf                                0.0\n",
       "count_partnership_insight_and_prevention                      0.0\n",
       "amount_spent                                                  0.0\n",
       "Length: 62, dtype: float64"
      ]
     },
     "execution_count": 74,
     "metadata": {},
     "output_type": "execute_result"
    }
   ],
   "source": [
    "X_train.isna().mean().sort_values()"
   ]
  },
  {
   "cell_type": "code",
   "execution_count": 75,
   "id": "d766699f-2939-4748-aa13-98120fd1b9e3",
   "metadata": {},
   "outputs": [
    {
     "data": {
      "text/plain": [
       "days_since_last_purchase          1.671080\n",
       "count_7                           2.619698\n",
       "count_schools                     2.749101\n",
       "count_9                           2.822897\n",
       "count_4                           2.908347\n",
       "sum_original_gross_amt_schools    3.264832\n",
       "count_8                           3.376765\n",
       "count_2                           3.640143\n",
       "sum_original_gross_amt_3          3.721572\n",
       "count_5                           3.827833\n",
       "dtype: float64"
      ]
     },
     "execution_count": 75,
     "metadata": {},
     "output_type": "execute_result"
    }
   ],
   "source": [
    "# coeficiente de variacion\n",
    "# eliminamos variables con baja variación (< 1)\n",
    "\n",
    "df_std = X_train.std()\n",
    "df_mean = X_train.mean()\n",
    "\n",
    "df_coef_var = df_std / df_mean\n",
    "\n",
    "df_coef_var.sort_values().head(10)"
   ]
  },
  {
   "cell_type": "code",
   "execution_count": 76,
   "id": "c4400a46-e1a3-4af2-a4bb-95061b5b8d1a",
   "metadata": {},
   "outputs": [],
   "source": [
    "# correlación de spearman con el target\n",
    "\n",
    "sp_corr = []\n",
    "\n",
    "for col in predictor_columns:\n",
    "    x = X_train[col].values\n",
    "    corr, p_value = spearmanr(x, y_train)\n",
    "    sp_corr.append((col, corr, p_value))"
   ]
  },
  {
   "cell_type": "code",
   "execution_count": 77,
   "id": "a06e47b4-d896-4ed7-ac8e-af1af8d6e8ac",
   "metadata": {},
   "outputs": [],
   "source": [
    "df_sp_corr = pd.DataFrame(sp_corr, columns=[\"predictor\", \"corr\", \"pvalue\"])"
   ]
  },
  {
   "cell_type": "code",
   "execution_count": 78,
   "id": "623c9ef2-610a-432e-9c7c-885a01ce08f1",
   "metadata": {},
   "outputs": [],
   "source": [
    "df_sp_corr.sort_values(\"pvalue\", inplace=True)"
   ]
  },
  {
   "cell_type": "code",
   "execution_count": 79,
   "id": "0ccdb196-b5c7-48c8-b2f2-1fa488a8ce0b",
   "metadata": {},
   "outputs": [],
   "source": [
    "df_sp_corr.to_csv(\"../data/sp_corr.csv\", index=False)"
   ]
  },
  {
   "cell_type": "code",
   "execution_count": 80,
   "id": "d20461b2-8640-41b0-834d-2e02cdc408fd",
   "metadata": {},
   "outputs": [],
   "source": [
    "predictor_columns_2 = df_sp_corr.query(\"pvalue <= 0.001\")[\"predictor\"].tolist()"
   ]
  },
  {
   "cell_type": "code",
   "execution_count": 81,
   "id": "90c1567b-a67f-4081-b46c-8264b76fd97d",
   "metadata": {},
   "outputs": [
    {
     "data": {
      "text/plain": [
       "40"
      ]
     },
     "execution_count": 81,
     "metadata": {},
     "output_type": "execute_result"
    }
   ],
   "source": [
    "len(predictor_columns_2)"
   ]
  },
  {
   "cell_type": "code",
   "execution_count": 83,
   "id": "a6c5d7ca-4df7-41fc-9913-895b69e312b0",
   "metadata": {},
   "outputs": [
    {
     "data": {
      "text/plain": [
       "['amount_spent',\n",
       " 'sum_original_gross_amt_schools',\n",
       " 'count_1',\n",
       " 'count_2',\n",
       " 'count_3',\n",
       " 'count_4',\n",
       " 'count_5',\n",
       " 'count_6',\n",
       " 'count_schools',\n",
       " 'count_7',\n",
       " 'count_8',\n",
       " 'count_9',\n",
       " 'days_since_last_purchase',\n",
       " 'sum_original_gross_amt_1',\n",
       " 'sum_original_gross_amt_2',\n",
       " 'sum_original_gross_amt_3',\n",
       " 'sum_original_gross_amt_4',\n",
       " 'sum_original_gross_amt_5',\n",
       " 'sum_original_gross_amt_6',\n",
       " 'sum_original_gross_amt_7',\n",
       " 'sum_original_gross_amt_8',\n",
       " 'sum_original_gross_amt_9',\n",
       " 'sum_original_gross_amt_neighbourhoods',\n",
       " 'count_neighbourhoods',\n",
       " 'sum_original_gross_amt_city_operations',\n",
       " 'count_city_operations',\n",
       " 'count_0',\n",
       " 'sum_original_gross_amt_0',\n",
       " 'count_education_and_skills',\n",
       " 'sum_original_gross_amt_education_and_skills',\n",
       " 'sum_original_gross_amt_finance_and_governance',\n",
       " 'count_finance_and_governance',\n",
       " 'sum_original_gross_amt_digital_and_customer_services',\n",
       " 'count_digital_and_customer_services',\n",
       " 'sum_original_gross_amt_adult_social_care',\n",
       " 'count_adult_social_care',\n",
       " 'sum_original_gross_amt_city_housing',\n",
       " 'count_city_housing',\n",
       " 'count_inclusive_growth',\n",
       " 'sum_original_gross_amt_inclusive_growth']"
      ]
     },
     "execution_count": 83,
     "metadata": {},
     "output_type": "execute_result"
    }
   ],
   "source": [
    "predictor_columns_2"
   ]
  },
  {
   "cell_type": "markdown",
   "id": "b69be60f-1ba6-4b29-9c42-ce4ae5844907",
   "metadata": {},
   "source": [
    "### Saving Data"
   ]
  },
  {
   "cell_type": "code",
   "execution_count": 82,
   "id": "45e8fba3-1f30-47ed-9901-81374bf8bd05",
   "metadata": {},
   "outputs": [],
   "source": [
    "df_train = X_train[predictor_columns_2].copy()\n",
    "df_train[target_column] = y_train\n",
    "df_train.to_csv(\"../data/df_train.csv\", index=False)\n",
    "\n",
    "df_dev = X_dev[predictor_columns_2].copy()\n",
    "df_dev[target_column] = y_dev\n",
    "df_dev.to_csv(\"../data/df_dev.csv\", index=False)\n",
    "\n",
    "df_test = X_test[predictor_columns_2].copy()\n",
    "df_test[target_column] = y_test\n",
    "df_test.to_csv(\"../data/df_test.csv\", index=False)"
   ]
  },
  {
   "cell_type": "code",
   "execution_count": null,
   "id": "62858b89-81ae-4c20-8d2e-f0fb072d02b5",
   "metadata": {},
   "outputs": [],
   "source": []
  }
 ],
 "metadata": {
  "kernelspec": {
   "display_name": "Python 3 (ipykernel)",
   "language": "python",
   "name": "python3"
  },
  "language_info": {
   "codemirror_mode": {
    "name": "ipython",
    "version": 3
   },
   "file_extension": ".py",
   "mimetype": "text/x-python",
   "name": "python",
   "nbconvert_exporter": "python",
   "pygments_lexer": "ipython3",
   "version": "3.12.1"
  }
 },
 "nbformat": 4,
 "nbformat_minor": 5
}
